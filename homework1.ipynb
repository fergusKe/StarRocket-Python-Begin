{
 "cells": [
  {
   "cell_type": "markdown",
   "metadata": {},
   "source": [
    "# 輸入5個數字，算總和跟最大值\n",
    "# 使用list 列表處理"
   ]
  },
  {
   "cell_type": "code",
   "execution_count": 7,
   "metadata": {},
   "outputs": [
    {
     "name": "stdout",
     "output_type": "stream",
     "text": [
      "Enter a Number: 1\n",
      "Enter a Number again: 2\n",
      "Enter a Number again: 1\n",
      "Enter a Number again: 2\n",
      "Enter a Number again: 1\n",
      "總和: 7\n",
      "最大值: 2\n"
     ]
    }
   ],
   "source": [
    "n1 = input(\"Enter a Number: \")\n",
    "n2 = input(\"Enter a Number again: \")\n",
    "n3 = input(\"Enter a Number again: \")\n",
    "n4 = input(\"Enter a Number again: \")\n",
    "n5 = input(\"Enter a Number again: \")\n",
    "arr = [int(n1), int(n2), int(n3), int(n4), int(n5)]\n",
    "print('總和: {}'.format(sum(arr)))\n",
    "print('最大值: {}'.format(max(arr)))"
   ]
  },
  {
   "cell_type": "code",
   "execution_count": null,
   "metadata": {
    "collapsed": true
   },
   "outputs": [],
   "source": []
  }
 ],
 "metadata": {
  "kernelspec": {
   "display_name": "Python 3",
   "language": "python",
   "name": "python3"
  },
  "language_info": {
   "codemirror_mode": {
    "name": "ipython",
    "version": 3
   },
   "file_extension": ".py",
   "mimetype": "text/x-python",
   "name": "python",
   "nbconvert_exporter": "python",
   "pygments_lexer": "ipython3",
   "version": "3.6.1"
  }
 },
 "nbformat": 4,
 "nbformat_minor": 2
}
